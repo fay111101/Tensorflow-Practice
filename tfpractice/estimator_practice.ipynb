{
 "cells": [
  {
   "cell_type": "markdown",
   "metadata": {},
   "source": [
    "## 使用预训练的estimator"
   ]
  },
  {
   "cell_type": "code",
   "execution_count": 2,
   "metadata": {},
   "outputs": [
    {
     "data": {
      "text/plain": [
       "'2.3.0'"
      ]
     },
     "execution_count": 2,
     "metadata": {},
     "output_type": "execute_result"
    }
   ],
   "source": [
    "\n",
    "import tensorflow as tf\n",
    "tf.__version__"
   ]
  },
  {
   "cell_type": "code",
   "execution_count": 4,
   "metadata": {},
   "outputs": [],
   "source": [
    "import pandas as pd"
   ]
  },
  {
   "cell_type": "code",
   "execution_count": 5,
   "metadata": {},
   "outputs": [],
   "source": [
    "CSV_COLUMN_NAMES = ['SepalLength', 'SepalWidth', 'PetalLength', 'PetalWidth', 'Species']\n",
    "SPECIES = ['Setosa', 'Versicolor', 'Virginica']"
   ]
  },
  {
   "cell_type": "code",
   "execution_count": 7,
   "metadata": {},
   "outputs": [
    {
     "name": "stdout",
     "output_type": "stream",
     "text": [
      "Downloading data from https://storage.googleapis.com/download.tensorflow.org/data/iris_training.csv\n",
      "8192/2194 [================================================================================================================] - 0s 3us/step\n",
      "Downloading data from https://storage.googleapis.com/download.tensorflow.org/data/iris_test.csv\n",
      "8192/573 [============================================================================================================================================================================================================================================================================================================================================================================================================================================] - 0s 0us/step\n"
     ]
    }
   ],
   "source": [
    "train_path = tf.keras.utils.get_file(\n",
    "    \"iris_training.csv\", \"https://storage.googleapis.com/download.tensorflow.org/data/iris_training.csv\")\n",
    "test_path = tf.keras.utils.get_file(\n",
    "    \"iris_test.csv\", \"https://storage.googleapis.com/download.tensorflow.org/data/iris_test.csv\")\n",
    "\n",
    "train = pd.read_csv(train_path, names=CSV_COLUMN_NAMES, header=0)\n",
    "test = pd.read_csv(test_path, names=CSV_COLUMN_NAMES, header=0)"
   ]
  },
  {
   "cell_type": "code",
   "execution_count": 8,
   "metadata": {},
   "outputs": [
    {
     "data": {
      "text/html": [
       "<div>\n",
       "<style scoped>\n",
       "    .dataframe tbody tr th:only-of-type {\n",
       "        vertical-align: middle;\n",
       "    }\n",
       "\n",
       "    .dataframe tbody tr th {\n",
       "        vertical-align: top;\n",
       "    }\n",
       "\n",
       "    .dataframe thead th {\n",
       "        text-align: right;\n",
       "    }\n",
       "</style>\n",
       "<table border=\"1\" class=\"dataframe\">\n",
       "  <thead>\n",
       "    <tr style=\"text-align: right;\">\n",
       "      <th></th>\n",
       "      <th>SepalLength</th>\n",
       "      <th>SepalWidth</th>\n",
       "      <th>PetalLength</th>\n",
       "      <th>PetalWidth</th>\n",
       "      <th>Species</th>\n",
       "    </tr>\n",
       "  </thead>\n",
       "  <tbody>\n",
       "    <tr>\n",
       "      <th>0</th>\n",
       "      <td>6.4</td>\n",
       "      <td>2.8</td>\n",
       "      <td>5.6</td>\n",
       "      <td>2.2</td>\n",
       "      <td>2</td>\n",
       "    </tr>\n",
       "    <tr>\n",
       "      <th>1</th>\n",
       "      <td>5.0</td>\n",
       "      <td>2.3</td>\n",
       "      <td>3.3</td>\n",
       "      <td>1.0</td>\n",
       "      <td>1</td>\n",
       "    </tr>\n",
       "    <tr>\n",
       "      <th>2</th>\n",
       "      <td>4.9</td>\n",
       "      <td>2.5</td>\n",
       "      <td>4.5</td>\n",
       "      <td>1.7</td>\n",
       "      <td>2</td>\n",
       "    </tr>\n",
       "    <tr>\n",
       "      <th>3</th>\n",
       "      <td>4.9</td>\n",
       "      <td>3.1</td>\n",
       "      <td>1.5</td>\n",
       "      <td>0.1</td>\n",
       "      <td>0</td>\n",
       "    </tr>\n",
       "    <tr>\n",
       "      <th>4</th>\n",
       "      <td>5.7</td>\n",
       "      <td>3.8</td>\n",
       "      <td>1.7</td>\n",
       "      <td>0.3</td>\n",
       "      <td>0</td>\n",
       "    </tr>\n",
       "  </tbody>\n",
       "</table>\n",
       "</div>"
      ],
      "text/plain": [
       "   SepalLength  SepalWidth  PetalLength  PetalWidth  Species\n",
       "0          6.4         2.8          5.6         2.2        2\n",
       "1          5.0         2.3          3.3         1.0        1\n",
       "2          4.9         2.5          4.5         1.7        2\n",
       "3          4.9         3.1          1.5         0.1        0\n",
       "4          5.7         3.8          1.7         0.3        0"
      ]
     },
     "execution_count": 8,
     "metadata": {},
     "output_type": "execute_result"
    }
   ],
   "source": [
    "train.head()"
   ]
  },
  {
   "cell_type": "code",
   "execution_count": 9,
   "metadata": {},
   "outputs": [
    {
     "data": {
      "text/html": [
       "<div>\n",
       "<style scoped>\n",
       "    .dataframe tbody tr th:only-of-type {\n",
       "        vertical-align: middle;\n",
       "    }\n",
       "\n",
       "    .dataframe tbody tr th {\n",
       "        vertical-align: top;\n",
       "    }\n",
       "\n",
       "    .dataframe thead th {\n",
       "        text-align: right;\n",
       "    }\n",
       "</style>\n",
       "<table border=\"1\" class=\"dataframe\">\n",
       "  <thead>\n",
       "    <tr style=\"text-align: right;\">\n",
       "      <th></th>\n",
       "      <th>SepalLength</th>\n",
       "      <th>SepalWidth</th>\n",
       "      <th>PetalLength</th>\n",
       "      <th>PetalWidth</th>\n",
       "    </tr>\n",
       "  </thead>\n",
       "  <tbody>\n",
       "    <tr>\n",
       "      <th>0</th>\n",
       "      <td>6.4</td>\n",
       "      <td>2.8</td>\n",
       "      <td>5.6</td>\n",
       "      <td>2.2</td>\n",
       "    </tr>\n",
       "    <tr>\n",
       "      <th>1</th>\n",
       "      <td>5.0</td>\n",
       "      <td>2.3</td>\n",
       "      <td>3.3</td>\n",
       "      <td>1.0</td>\n",
       "    </tr>\n",
       "    <tr>\n",
       "      <th>2</th>\n",
       "      <td>4.9</td>\n",
       "      <td>2.5</td>\n",
       "      <td>4.5</td>\n",
       "      <td>1.7</td>\n",
       "    </tr>\n",
       "    <tr>\n",
       "      <th>3</th>\n",
       "      <td>4.9</td>\n",
       "      <td>3.1</td>\n",
       "      <td>1.5</td>\n",
       "      <td>0.1</td>\n",
       "    </tr>\n",
       "    <tr>\n",
       "      <th>4</th>\n",
       "      <td>5.7</td>\n",
       "      <td>3.8</td>\n",
       "      <td>1.7</td>\n",
       "      <td>0.3</td>\n",
       "    </tr>\n",
       "  </tbody>\n",
       "</table>\n",
       "</div>"
      ],
      "text/plain": [
       "   SepalLength  SepalWidth  PetalLength  PetalWidth\n",
       "0          6.4         2.8          5.6         2.2\n",
       "1          5.0         2.3          3.3         1.0\n",
       "2          4.9         2.5          4.5         1.7\n",
       "3          4.9         3.1          1.5         0.1\n",
       "4          5.7         3.8          1.7         0.3"
      ]
     },
     "execution_count": 9,
     "metadata": {},
     "output_type": "execute_result"
    }
   ],
   "source": [
    "train_y = train.pop('Species')\n",
    "test_y = test.pop('Species')\n",
    "\n",
    "# 标签列现已从数据中删除\n",
    "train.head()"
   ]
  },
  {
   "cell_type": "code",
   "execution_count": 10,
   "metadata": {},
   "outputs": [],
   "source": [
    "def input_evaluation_set():\n",
    "    features = {'SepalLength': np.array([6.4, 5.0]),\n",
    "                'SepalWidth':  np.array([2.8, 2.3]),\n",
    "                'PetalLength': np.array([5.6, 3.3]),\n",
    "                'PetalWidth':  np.array([2.2, 1.0])}\n",
    "    labels = np.array([2, 1])\n",
    "    return features, labels"
   ]
  },
  {
   "cell_type": "code",
   "execution_count": 11,
   "metadata": {},
   "outputs": [],
   "source": [
    "def input_fn(features, labels, training=True, batch_size=256):\n",
    "    \"\"\"An input function for training or evaluating\"\"\"\n",
    "    # 将输入转换为数据集。\n",
    "    dataset = tf.data.Dataset.from_tensor_slices((dict(features), labels))\n",
    "\n",
    "    # 如果在训练模式下混淆并重复数据。\n",
    "    if training:\n",
    "        dataset = dataset.shuffle(1000).repeat()\n",
    "\n",
    "    return dataset.batch(batch_size)\n"
   ]
  },
  {
   "cell_type": "code",
   "execution_count": 12,
   "metadata": {},
   "outputs": [],
   "source": [
    "# 特征列描述了如何使用输入。\n",
    "my_feature_columns = []\n",
    "for key in train.keys():\n",
    "    my_feature_columns.append(tf.feature_column.numeric_column(key=key))"
   ]
  },
  {
   "cell_type": "code",
   "execution_count": 13,
   "metadata": {},
   "outputs": [
    {
     "name": "stdout",
     "output_type": "stream",
     "text": [
      "INFO:tensorflow:Using default config.\n",
      "WARNING:tensorflow:Using temporary folder as model directory: /var/folders/2r/3s13n4bd25z952yxbrmt_fgc0000gn/T/tmprur0gtyu\n",
      "INFO:tensorflow:Using config: {'_model_dir': '/var/folders/2r/3s13n4bd25z952yxbrmt_fgc0000gn/T/tmprur0gtyu', '_tf_random_seed': None, '_save_summary_steps': 100, '_save_checkpoints_steps': None, '_save_checkpoints_secs': 600, '_session_config': allow_soft_placement: true\n",
      "graph_options {\n",
      "  rewrite_options {\n",
      "    meta_optimizer_iterations: ONE\n",
      "  }\n",
      "}\n",
      ", '_keep_checkpoint_max': 5, '_keep_checkpoint_every_n_hours': 10000, '_log_step_count_steps': 100, '_train_distribute': None, '_device_fn': None, '_protocol': None, '_eval_distribute': None, '_experimental_distribute': None, '_experimental_max_worker_delay_secs': None, '_session_creation_timeout_secs': 7200, '_service': None, '_cluster_spec': ClusterSpec({}), '_task_type': 'worker', '_task_id': 0, '_global_id_in_cluster': 0, '_master': '', '_evaluation_master': '', '_is_chief': True, '_num_ps_replicas': 0, '_num_worker_replicas': 1}\n"
     ]
    }
   ],
   "source": [
    "# 构建一个拥有两个隐层，隐藏节点分别为 30 和 10 的深度神经网络。\n",
    "classifier = tf.estimator.DNNClassifier(\n",
    "    feature_columns=my_feature_columns,\n",
    "    # 隐层所含结点数量分别为 30 和 10.\n",
    "    hidden_units=[30, 10],\n",
    "    # 模型必须从三个类别中做出选择。\n",
    "    n_classes=3)"
   ]
  },
  {
   "cell_type": "code",
   "execution_count": 14,
   "metadata": {},
   "outputs": [
    {
     "name": "stdout",
     "output_type": "stream",
     "text": [
      "WARNING:tensorflow:From /Users/didi/anaconda3/lib/python3.7/site-packages/tensorflow/python/training/training_util.py:236: Variable.initialized_value (from tensorflow.python.ops.variables) is deprecated and will be removed in a future version.\n",
      "Instructions for updating:\n",
      "Use Variable.read_value. Variables in 2.X are initialized automatically both in eager and graph (inside tf.defun) contexts.\n",
      "INFO:tensorflow:Calling model_fn.\n",
      "WARNING:tensorflow:Layer dnn is casting an input tensor from dtype float64 to the layer's dtype of float32, which is new behavior in TensorFlow 2.  The layer has dtype float32 because its dtype defaults to floatx.\n",
      "\n",
      "If you intended to run this layer in float32, you can safely ignore this warning. If in doubt, this warning is likely only an issue if you are porting a TensorFlow 1.X model to TensorFlow 2.\n",
      "\n",
      "To change all layers to have dtype float64 by default, call `tf.keras.backend.set_floatx('float64')`. To change just this layer, pass dtype='float64' to the layer constructor. If you are the author of this layer, you can disable autocasting by passing autocast=False to the base Layer constructor.\n",
      "\n",
      "WARNING:tensorflow:From /Users/didi/anaconda3/lib/python3.7/site-packages/tensorflow/python/keras/optimizer_v2/adagrad.py:83: calling Constant.__init__ (from tensorflow.python.ops.init_ops) with dtype is deprecated and will be removed in a future version.\n",
      "Instructions for updating:\n",
      "Call initializer instance with the dtype argument instead of passing it to the constructor\n",
      "INFO:tensorflow:Done calling model_fn.\n",
      "INFO:tensorflow:Create CheckpointSaverHook.\n",
      "INFO:tensorflow:Graph was finalized.\n",
      "INFO:tensorflow:Running local_init_op.\n",
      "INFO:tensorflow:Done running local_init_op.\n",
      "INFO:tensorflow:Calling checkpoint listeners before saving checkpoint 0...\n",
      "INFO:tensorflow:Saving checkpoints for 0 into /var/folders/2r/3s13n4bd25z952yxbrmt_fgc0000gn/T/tmprur0gtyu/model.ckpt.\n",
      "INFO:tensorflow:Calling checkpoint listeners after saving checkpoint 0...\n",
      "INFO:tensorflow:loss = 1.2884964, step = 0\n",
      "INFO:tensorflow:global_step/sec: 445.027\n",
      "INFO:tensorflow:loss = 1.0402637, step = 100 (0.227 sec)\n",
      "INFO:tensorflow:global_step/sec: 516.395\n",
      "INFO:tensorflow:loss = 0.97006714, step = 200 (0.192 sec)\n",
      "INFO:tensorflow:global_step/sec: 509.204\n",
      "INFO:tensorflow:loss = 0.93465257, step = 300 (0.197 sec)\n",
      "INFO:tensorflow:global_step/sec: 514.181\n",
      "INFO:tensorflow:loss = 0.8978683, step = 400 (0.195 sec)\n",
      "INFO:tensorflow:global_step/sec: 455.283\n",
      "INFO:tensorflow:loss = 0.87692475, step = 500 (0.219 sec)\n",
      "INFO:tensorflow:global_step/sec: 526.984\n",
      "INFO:tensorflow:loss = 0.8434128, step = 600 (0.190 sec)\n",
      "INFO:tensorflow:global_step/sec: 509.517\n",
      "INFO:tensorflow:loss = 0.82863, step = 700 (0.197 sec)\n",
      "INFO:tensorflow:global_step/sec: 482.093\n",
      "INFO:tensorflow:loss = 0.8002653, step = 800 (0.207 sec)\n",
      "INFO:tensorflow:global_step/sec: 497.07\n",
      "INFO:tensorflow:loss = 0.78353554, step = 900 (0.202 sec)\n",
      "INFO:tensorflow:global_step/sec: 461.817\n",
      "INFO:tensorflow:loss = 0.7555971, step = 1000 (0.216 sec)\n",
      "INFO:tensorflow:global_step/sec: 458.142\n",
      "INFO:tensorflow:loss = 0.73142135, step = 1100 (0.219 sec)\n",
      "INFO:tensorflow:global_step/sec: 533.114\n",
      "INFO:tensorflow:loss = 0.7092714, step = 1200 (0.188 sec)\n",
      "INFO:tensorflow:global_step/sec: 458.025\n",
      "INFO:tensorflow:loss = 0.69927824, step = 1300 (0.218 sec)\n",
      "INFO:tensorflow:global_step/sec: 493.6\n",
      "INFO:tensorflow:loss = 0.6795404, step = 1400 (0.203 sec)\n",
      "INFO:tensorflow:global_step/sec: 457.295\n",
      "INFO:tensorflow:loss = 0.6597297, step = 1500 (0.219 sec)\n",
      "INFO:tensorflow:global_step/sec: 455.603\n",
      "INFO:tensorflow:loss = 0.64262915, step = 1600 (0.221 sec)\n",
      "INFO:tensorflow:global_step/sec: 504.607\n",
      "INFO:tensorflow:loss = 0.6202855, step = 1700 (0.197 sec)\n",
      "INFO:tensorflow:global_step/sec: 535.978\n",
      "INFO:tensorflow:loss = 0.6192714, step = 1800 (0.187 sec)\n",
      "INFO:tensorflow:global_step/sec: 508.256\n",
      "INFO:tensorflow:loss = 0.60960424, step = 1900 (0.196 sec)\n",
      "INFO:tensorflow:global_step/sec: 538.092\n",
      "INFO:tensorflow:loss = 0.6044659, step = 2000 (0.186 sec)\n",
      "INFO:tensorflow:global_step/sec: 435.475\n",
      "INFO:tensorflow:loss = 0.5935971, step = 2100 (0.231 sec)\n",
      "INFO:tensorflow:global_step/sec: 407.692\n",
      "INFO:tensorflow:loss = 0.5776588, step = 2200 (0.245 sec)\n",
      "INFO:tensorflow:global_step/sec: 465.37\n",
      "INFO:tensorflow:loss = 0.5762912, step = 2300 (0.214 sec)\n",
      "INFO:tensorflow:global_step/sec: 382.418\n",
      "INFO:tensorflow:loss = 0.5643303, step = 2400 (0.271 sec)\n",
      "INFO:tensorflow:global_step/sec: 342.865\n",
      "INFO:tensorflow:loss = 0.5506749, step = 2500 (0.283 sec)\n",
      "INFO:tensorflow:global_step/sec: 372.182\n",
      "INFO:tensorflow:loss = 0.54828376, step = 2600 (0.269 sec)\n",
      "INFO:tensorflow:global_step/sec: 304.154\n",
      "INFO:tensorflow:loss = 0.5428531, step = 2700 (0.329 sec)\n",
      "INFO:tensorflow:global_step/sec: 350.387\n",
      "INFO:tensorflow:loss = 0.53547287, step = 2800 (0.286 sec)\n",
      "INFO:tensorflow:global_step/sec: 500.829\n",
      "INFO:tensorflow:loss = 0.53086746, step = 2900 (0.198 sec)\n",
      "INFO:tensorflow:global_step/sec: 368.107\n",
      "INFO:tensorflow:loss = 0.5191512, step = 3000 (0.272 sec)\n",
      "INFO:tensorflow:global_step/sec: 523.867\n",
      "INFO:tensorflow:loss = 0.5189538, step = 3100 (0.190 sec)\n",
      "INFO:tensorflow:global_step/sec: 439.82\n",
      "INFO:tensorflow:loss = 0.5103295, step = 3200 (0.228 sec)\n",
      "INFO:tensorflow:global_step/sec: 414.896\n",
      "INFO:tensorflow:loss = 0.504997, step = 3300 (0.240 sec)\n",
      "INFO:tensorflow:global_step/sec: 515.008\n",
      "INFO:tensorflow:loss = 0.5048584, step = 3400 (0.195 sec)\n",
      "INFO:tensorflow:global_step/sec: 515.924\n",
      "INFO:tensorflow:loss = 0.49034902, step = 3500 (0.193 sec)\n",
      "INFO:tensorflow:global_step/sec: 534.228\n",
      "INFO:tensorflow:loss = 0.494174, step = 3600 (0.187 sec)\n",
      "INFO:tensorflow:global_step/sec: 557.186\n",
      "INFO:tensorflow:loss = 0.47932184, step = 3700 (0.180 sec)\n",
      "INFO:tensorflow:global_step/sec: 417.369\n",
      "INFO:tensorflow:loss = 0.47607127, step = 3800 (0.241 sec)\n",
      "INFO:tensorflow:global_step/sec: 436.954\n",
      "INFO:tensorflow:loss = 0.4675927, step = 3900 (0.228 sec)\n",
      "INFO:tensorflow:global_step/sec: 566.229\n",
      "INFO:tensorflow:loss = 0.4670901, step = 4000 (0.176 sec)\n",
      "INFO:tensorflow:global_step/sec: 425.604\n",
      "INFO:tensorflow:loss = 0.45843995, step = 4100 (0.235 sec)\n",
      "INFO:tensorflow:global_step/sec: 440.806\n",
      "INFO:tensorflow:loss = 0.46224305, step = 4200 (0.227 sec)\n",
      "INFO:tensorflow:global_step/sec: 532.28\n",
      "INFO:tensorflow:loss = 0.4498533, step = 4300 (0.189 sec)\n",
      "INFO:tensorflow:global_step/sec: 332.004\n",
      "INFO:tensorflow:loss = 0.43010253, step = 4400 (0.300 sec)\n",
      "INFO:tensorflow:global_step/sec: 587.8\n",
      "INFO:tensorflow:loss = 0.43286592, step = 4500 (0.170 sec)\n",
      "INFO:tensorflow:global_step/sec: 599.269\n",
      "INFO:tensorflow:loss = 0.42330778, step = 4600 (0.167 sec)\n",
      "INFO:tensorflow:global_step/sec: 577.631\n",
      "INFO:tensorflow:loss = 0.42364746, step = 4700 (0.174 sec)\n",
      "INFO:tensorflow:global_step/sec: 531.482\n",
      "INFO:tensorflow:loss = 0.425789, step = 4800 (0.188 sec)\n",
      "INFO:tensorflow:global_step/sec: 560.947\n",
      "INFO:tensorflow:loss = 0.405326, step = 4900 (0.180 sec)\n",
      "INFO:tensorflow:Calling checkpoint listeners before saving checkpoint 5000...\n",
      "INFO:tensorflow:Saving checkpoints for 5000 into /var/folders/2r/3s13n4bd25z952yxbrmt_fgc0000gn/T/tmprur0gtyu/model.ckpt.\n",
      "INFO:tensorflow:Calling checkpoint listeners after saving checkpoint 5000...\n",
      "INFO:tensorflow:Loss for final step: 0.41078472.\n"
     ]
    },
    {
     "data": {
      "text/plain": [
       "<tensorflow_estimator.python.estimator.canned.dnn.DNNClassifierV2 at 0x7fedee65c940>"
      ]
     },
     "execution_count": 14,
     "metadata": {},
     "output_type": "execute_result"
    }
   ],
   "source": [
    "# 训练模型。\n",
    "classifier.train(\n",
    "    input_fn=lambda: input_fn(train, train_y, training=True),\n",
    "    steps=5000)"
   ]
  },
  {
   "cell_type": "code",
   "execution_count": 15,
   "metadata": {},
   "outputs": [
    {
     "name": "stdout",
     "output_type": "stream",
     "text": [
      "INFO:tensorflow:Calling model_fn.\n",
      "WARNING:tensorflow:Layer dnn is casting an input tensor from dtype float64 to the layer's dtype of float32, which is new behavior in TensorFlow 2.  The layer has dtype float32 because its dtype defaults to floatx.\n",
      "\n",
      "If you intended to run this layer in float32, you can safely ignore this warning. If in doubt, this warning is likely only an issue if you are porting a TensorFlow 1.X model to TensorFlow 2.\n",
      "\n",
      "To change all layers to have dtype float64 by default, call `tf.keras.backend.set_floatx('float64')`. To change just this layer, pass dtype='float64' to the layer constructor. If you are the author of this layer, you can disable autocasting by passing autocast=False to the base Layer constructor.\n",
      "\n",
      "INFO:tensorflow:Done calling model_fn.\n",
      "INFO:tensorflow:Starting evaluation at 2020-12-14T11:28:31Z\n",
      "INFO:tensorflow:Graph was finalized.\n",
      "INFO:tensorflow:Restoring parameters from /var/folders/2r/3s13n4bd25z952yxbrmt_fgc0000gn/T/tmprur0gtyu/model.ckpt-5000\n",
      "INFO:tensorflow:Running local_init_op.\n",
      "INFO:tensorflow:Done running local_init_op.\n",
      "INFO:tensorflow:Inference Time : 0.30362s\n",
      "INFO:tensorflow:Finished evaluation at 2020-12-14-11:28:31\n",
      "INFO:tensorflow:Saving dict for global step 5000: accuracy = 0.8666667, average_loss = 0.4818775, global_step = 5000, loss = 0.4818775\n",
      "INFO:tensorflow:Saving 'checkpoint_path' summary for global step 5000: /var/folders/2r/3s13n4bd25z952yxbrmt_fgc0000gn/T/tmprur0gtyu/model.ckpt-5000\n",
      "\n",
      "Test set accuracy: 0.867\n",
      "\n"
     ]
    }
   ],
   "source": [
    "eval_result = classifier.evaluate(\n",
    "    input_fn=lambda: input_fn(test, test_y, training=False))\n",
    "\n",
    "print('\\nTest set accuracy: {accuracy:0.3f}\\n'.format(**eval_result))"
   ]
  },
  {
   "cell_type": "code",
   "execution_count": 16,
   "metadata": {},
   "outputs": [],
   "source": [
    "# 由模型生成预测\n",
    "expected = ['Setosa', 'Versicolor', 'Virginica']\n",
    "predict_x = {\n",
    "    'SepalLength': [5.1, 5.9, 6.9],\n",
    "    'SepalWidth': [3.3, 3.0, 3.1],\n",
    "    'PetalLength': [1.7, 4.2, 5.4],\n",
    "    'PetalWidth': [0.5, 1.5, 2.1],\n",
    "}\n",
    "\n",
    "def input_fn(features, batch_size=256):\n",
    "    \"\"\"An input function for prediction.\"\"\"\n",
    "    # 将输入转换为无标签数据集。\n",
    "    return tf.data.Dataset.from_tensor_slices(dict(features)).batch(batch_size)\n",
    "\n",
    "predictions = classifier.predict(\n",
    "    input_fn=lambda: input_fn(predict_x))"
   ]
  },
  {
   "cell_type": "code",
   "execution_count": 17,
   "metadata": {},
   "outputs": [
    {
     "name": "stdout",
     "output_type": "stream",
     "text": [
      "INFO:tensorflow:Calling model_fn.\n",
      "INFO:tensorflow:Done calling model_fn.\n",
      "INFO:tensorflow:Graph was finalized.\n",
      "INFO:tensorflow:Restoring parameters from /var/folders/2r/3s13n4bd25z952yxbrmt_fgc0000gn/T/tmprur0gtyu/model.ckpt-5000\n",
      "INFO:tensorflow:Running local_init_op.\n",
      "INFO:tensorflow:Done running local_init_op.\n",
      "Prediction is \"Setosa\" (82.6%), expected \"Setosa\"\n",
      "Prediction is \"Versicolor\" (49.8%), expected \"Versicolor\"\n",
      "Prediction is \"Virginica\" (62.2%), expected \"Virginica\"\n"
     ]
    }
   ],
   "source": [
    "for pred_dict, expec in zip(predictions, expected):\n",
    "    class_id = pred_dict['class_ids'][0]\n",
    "    probability = pred_dict['probabilities'][class_id]\n",
    "\n",
    "    print('Prediction is \"{}\" ({:.1f}%), expected \"{}\"'.format(\n",
    "        SPECIES[class_id], 100 * probability, expec))"
   ]
  },
  {
   "cell_type": "code",
   "execution_count": null,
   "metadata": {},
   "outputs": [],
   "source": []
  }
 ],
 "metadata": {
  "kernelspec": {
   "display_name": "Python 3",
   "language": "python",
   "name": "python3"
  },
  "language_info": {
   "codemirror_mode": {
    "name": "ipython",
    "version": 3
   },
   "file_extension": ".py",
   "mimetype": "text/x-python",
   "name": "python",
   "nbconvert_exporter": "python",
   "pygments_lexer": "ipython3",
   "version": "3.7.0"
  },
  "toc": {
   "base_numbering": 1.0,
   "nav_menu": {},
   "number_sections": true,
   "sideBar": true,
   "skip_h1_title": false,
   "title_cell": "Table of Contents",
   "title_sidebar": "Contents",
   "toc_cell": false,
   "toc_position": {},
   "toc_section_display": true,
   "toc_window_display": true
  }
 },
 "nbformat": 4,
 "nbformat_minor": 2
}
