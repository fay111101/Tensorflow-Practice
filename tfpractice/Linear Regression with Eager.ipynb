{
 "cells": [
  {
   "cell_type": "markdown",
   "metadata": {},
   "source": [
    "# Linear Regression with Eager API"
   ]
  },
  {
   "cell_type": "code",
   "execution_count": 2,
   "metadata": {},
   "outputs": [],
   "source": [
    "from __future__ import absolute_import,division,print_function\n",
    "import matplotlib.pyplot as plt\n",
    "import numpy as np\n",
    "import tensorflow as tf"
   ]
  },
  {
   "cell_type": "code",
   "execution_count": 3,
   "metadata": {},
   "outputs": [
    {
     "name": "stdout",
     "output_type": "stream",
     "text": [
      "\n",
      "WARNING: The TensorFlow contrib module will not be included in TensorFlow 2.0.\n",
      "For more information, please see:\n",
      "  * https://github.com/tensorflow/community/blob/master/rfcs/20180907-contrib-sunset.md\n",
      "  * https://github.com/tensorflow/addons\n",
      "If you depend on functionality not listed there, please file an issue.\n",
      "\n"
     ]
    }
   ],
   "source": [
    "tf.enable_eager_execution()\n",
    "tfe=tf.contrib.eager"
   ]
  },
  {
   "cell_type": "code",
   "execution_count": 4,
   "metadata": {},
   "outputs": [],
   "source": [
    "train_X=[3.3, 4.4, 5.5, 6.71, 6.93, 4.168, 9.779, 6.182, 7.59, 2.167,\n",
    "           7.042, 10.791, 5.313, 7.997, 5.654, 9.27, 3.1]\n",
    "train_Y=[1.7, 2.76, 2.09, 3.19, 1.694, 1.573, 3.366, 2.596, 2.53, 1.221,\n",
    "           2.827, 3.465, 1.65, 2.904, 2.42, 2.94, 1.3]\n",
    "n_samples=len(train_X)\n",
    "\n",
    "learning_rate = 0.01\n",
    "display_step = 100\n",
    "num_steps = 1000"
   ]
  },
  {
   "cell_type": "code",
   "execution_count": 10,
   "metadata": {},
   "outputs": [],
   "source": [
    "# 标准正态分布\n",
    "W=tf.Variable(np.random.randn())\n",
    "b=tf.Variable(np.random.randn())\n",
    "\n",
    "def linear_regression(inputs):\n",
    "    return inputs*W+b\n",
    "\n",
    "def mean_square_fn(model_fn,inputs,labels):\n",
    "    return tf.reduce_sum(tf.pow(model_fn(inputs)-labels,2))/(2*n_samples)\n"
   ]
  },
  {
   "cell_type": "code",
   "execution_count": 11,
   "metadata": {},
   "outputs": [],
   "source": [
    "optimizer=tf.train.GradientDescentOptimizer(learning_rate)\n",
    "grad=tfe.implicit_gradients(mean_square_fn)"
   ]
  },
  {
   "cell_type": "code",
   "execution_count": 12,
   "metadata": {},
   "outputs": [
    {
     "name": "stdout",
     "output_type": "stream",
     "text": [
      "Initial cost=0.091082178 W= 0.32297832 b= 0.3745339\n",
      "Epoch: 0001 cost= 0.089007743 W= 0.31781352 b= 0.37433258\n",
      "Epoch: 0100 cost= 0.085733578 W= 0.30483326 b= 0.42164916\n",
      "Epoch: 0200 cost= 0.083834723 W= 0.2987489 b= 0.46478438\n",
      "Epoch: 0300 cost= 0.082345411 W= 0.29336044 b= 0.5029861\n",
      "Epoch: 0400 cost= 0.081177279 W= 0.2885883 b= 0.5368186\n",
      "Epoch: 0500 cost= 0.080261052 W= 0.28436193 b= 0.5667816\n",
      "Epoch: 0600 cost= 0.079542436 W= 0.28061894 b= 0.5933177\n",
      "Epoch: 0700 cost= 0.078978769 W= 0.27730402 b= 0.6168189\n",
      "Epoch: 0800 cost= 0.078536689 W= 0.27436826 b= 0.63763225\n",
      "Epoch: 0900 cost= 0.078189939 W= 0.27176824 b= 0.65606517\n",
      "Epoch: 1000 cost= 0.077917963 W= 0.2694656 b= 0.6723899\n"
     ]
    },
    {
     "data": {
      "image/png": "[encoded data removed]",
      "text/plain": [
       "<Figure size 432x288 with 1 Axes>"
      ]
     },
     "metadata": {
      "needs_background": "light"
     },
     "output_type": "display_data"
    }
   ],
   "source": [
    "print(\"Initial cost={:.9f}\".format(\n",
    "    mean_square_fn(linear_regression,train_X,train_Y)),\n",
    "    \"W=\",W.numpy(),\"b=\",b.numpy())#tensor转换成numpy\n",
    "\n",
    "for step in range(num_steps):\n",
    "    \n",
    "    optimizer.apply_gradients(grad(linear_regression,train_X,train_Y))\n",
    "    \n",
    "    if(step+1)%display_step==0 or step==0:\n",
    "        print(\"Epoch:\",\"%04d\"%(step+1),\"cost=\",\n",
    "             \"{:.9f}\".format(mean_square_fn(linear_regression,train_X,train_Y)),\n",
    "             \"W=\", W.numpy(), \"b=\", b.numpy())\n",
    "        \n",
    "plt.plot(train_X, train_Y, 'ro', label='Original data')\n",
    "plt.plot(train_X, np.array(W * train_X + b), label='Fitted line')\n",
    "plt.legend()\n",
    "plt.show()"
   ]
  },
  {
   "cell_type": "code",
   "execution_count": null,
   "metadata": {},
   "outputs": [],
   "source": []
  }
 ],
 "metadata": {
  "kernelspec": {
   "display_name": "tf1.x",
   "language": "python",
   "name": "tf1.x"
  },
  "language_info": {
   "codemirror_mode": {
    "name": "ipython",
    "version": 3
   },
   "file_extension": ".py",
   "mimetype": "text/x-python",
   "name": "python",
   "nbconvert_exporter": "python",
   "pygments_lexer": "ipython3",
   "version": "3.6.10"
  }
 },
 "nbformat": 4,
 "nbformat_minor": 2
}
