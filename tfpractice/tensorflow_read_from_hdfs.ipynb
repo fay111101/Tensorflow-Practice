{
 "cells": [
  {
   "cell_type": "markdown",
   "metadata": {},
   "source": [
    "# source from \n",
    "https://blog.csdn.net/liukanglucky/article/details/102952686"
   ]
  },
  {
   "cell_type": "code",
   "execution_count": 1,
   "metadata": {},
   "outputs": [
    {
     "data": {
      "text/plain": [
       "'2.3.0'"
      ]
     },
     "execution_count": 1,
     "metadata": {},
     "output_type": "execute_result"
    }
   ],
   "source": [
    "import tensorflow as tf\n",
    "tf.__version__"
   ]
  },
  {
   "cell_type": "markdown",
   "metadata": {},
   "source": [
    "## from csv"
   ]
  },
  {
   "cell_type": "code",
   "execution_count": 5,
   "metadata": {},
   "outputs": [],
   "source": [
    "def get_file_list( root_path,path_pattern=[]):\n",
    "    \"\"\"\n",
    "    生成hdfs file list\n",
    "    :param path_pattern:\n",
    "    :param root_path\n",
    "    :return:\n",
    "    \"\"\"\n",
    "    cmd = \"\"\"\n",
    "        hadoop fs -ls -R {0}\n",
    "    \"\"\".format(root_path)\n",
    "    if len(path_pattern) == 0:\n",
    "        pattern = \"|\".join([\"(\" + str(p.replace('/', '\\/')) + \")\" for p in path_pattern])\n",
    "    else:\n",
    "        pattern = \"\"\n",
    "\n",
    "    # 筛选文件\n",
    "    def validate_path_pattern(path):\n",
    "        if pattern != \"\" and re.search(pattern, path) and '_SUCCESS' not in path:\n",
    "            return True\n",
    "        elif pattern == \"\" and '_SUCCESS' not in path:\n",
    "            return True\n",
    "        else:\n",
    "            return False\n",
    "\n",
    "    status, output = subprocess.getstatusoutput(cmd)\n",
    "    output = output.split('\\n')\n",
    "    output = list(filter(validate_path_pattern, output))\n",
    "    file_list = list()\n",
    "    polluted = any(len(info.split()) != 8 for info in output)\n",
    "    if status == 0 and len(output) > 0 and not polluted:\n",
    "        file_list = [info.split()[-1] for info in output if info[0] == '-']\n",
    "    return file_list\n",
    "\n",
    "def input_fn(files, batch_size=32, perform_shuffle=False, separator='\\t', has_header=False):\n",
    "    \"\"\"\n",
    "    input_fn 用于tf.estimators\n",
    "    :param files:\n",
    "    :param batch_size:\n",
    "    :param perform_shuffle:\n",
    "    :param separator:\n",
    "    :param has_header: csv文件是否包含列名\n",
    "    :return:\n",
    "    \"\"\"\n",
    "    def get_columns(file):\n",
    "        cmd = \"\"\"hadoop fs -cat {0} | head -1\"\"\".format(file)\n",
    "        status, output = subprocess.getstatusoutput(cmd)\n",
    "        return output.split(\"\\n\")[0].split(separator)\n",
    "\n",
    "    def map_fn(line):\n",
    "        defaults = []\n",
    "        for col in all_columns:\n",
    "            if col in CONTINUOUS_COLUMNS + ['label']:\n",
    "                defaults.append([0.0])\n",
    "            else:\n",
    "                defaults.append(['0'])\n",
    "        columns = tf.compat.v2.io.decode_csv(line, defaults, separator, use_quote_delim=False)\n",
    "\n",
    "        feature_map = dict()\n",
    "\n",
    "        for fea, col in zip(all_columns, columns):\n",
    "            if fea not in USE_COLUMNS:\n",
    "                continue\n",
    "            feature_map[fea] = col\n",
    "        labels = feature_map['label']\n",
    "\n",
    "        return feature_map, labels\n",
    "\n",
    "    if has_header:\n",
    "        all_columns = get_columns(files[0])\n",
    "        # 使用.skip() 跳过csv的第一行\n",
    "        dataset = tf.data.Dataset.from_tensor_slices(files)\n",
    "        dataset = dataset.flat_map(lambda filename: (\n",
    "            tf.data.TextLineDataset(filename).skip(1).map(map_fn)))\n",
    "    else:\n",
    "        all_columns = COLUMNS\n",
    "        dataset = tf.data.TextLineDataset(files).map(map_fn())\n",
    "\n",
    "    if perform_shuffle:\n",
    "        dataset = dataset.shuffle(512)\n",
    "    dataset = dataset.batch(batch_size)\n",
    "    return dataset\n",
    "\n"
   ]
  },
  {
   "cell_type": "code",
   "execution_count": null,
   "metadata": {},
   "outputs": [],
   "source": [
    "\n",
    "# 这里定义自己的estimator\n",
    "# 这里注意 files 那么都要加上 hdfs://xxx/ 的前缀\n",
    "files = get_file_list()\n",
    "model = tf.estimator.LinearClassifier(...)\n",
    "model.train(input_fn=lambda: input_fn(...))"
   ]
  },
  {
   "cell_type": "markdown",
   "metadata": {},
   "source": [
    "## from tfrecord"
   ]
  },
  {
   "cell_type": "code",
   "execution_count": null,
   "metadata": {},
   "outputs": [],
   "source": [
    "def input_fn(files: list, feature_len, batch_size=32, perform_shuffle=False):\n",
    "    \"\"\"\n",
    "    input_fn\n",
    "    :param files:\n",
    "    :param feature_len:\n",
    "    :param batch_size:\n",
    "    :param perform_shuffle:\n",
    "    :return:\n",
    "    \"\"\"\n",
    "\n",
    "    def map_fn(record):\n",
    "        feature_description = {\n",
    "            \"feature_index\": tf.io.FixedLenFeature([feature_len], tf.float32),\n",
    "            \"feature_value\": tf.io.FixedLenFeature([feature_len], tf.float32),\n",
    "            \"label\": tf.io.FixedLenFeature([1], tf.int64)\n",
    "        }\n",
    "        parsed = tf.io.parse_single_example(record, feature_description)\n",
    "        return parsed[\"feature_index\"], parsed[\"feature_value\"], parsed[\"label\"]\n",
    "\n",
    "    data = tf.data.TFRecordDataset(files).map(map_fn)\n",
    "    if perform_shuffle:\n",
    "        data = data.shuffle(512)\n",
    "    data = data.batch(batch_size)\n",
    "    return data\n",
    " \n"
   ]
  }
 ],
 "metadata": {
  "kernelspec": {
   "display_name": "Python 3",
   "language": "python",
   "name": "python3"
  },
  "language_info": {
   "codemirror_mode": {
    "name": "ipython",
    "version": 3
   },
   "file_extension": ".py",
   "mimetype": "text/x-python",
   "name": "python",
   "nbconvert_exporter": "python",
   "pygments_lexer": "ipython3",
   "version": "3.7.0"
  },
  "toc": {
   "base_numbering": 1.0,
   "nav_menu": {},
   "number_sections": true,
   "sideBar": true,
   "skip_h1_title": false,
   "title_cell": "Table of Contents",
   "title_sidebar": "Contents",
   "toc_cell": false,
   "toc_position": {},
   "toc_section_display": true,
   "toc_window_display": true
  }
 },
 "nbformat": 4,
 "nbformat_minor": 2
}
