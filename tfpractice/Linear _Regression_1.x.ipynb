{
 "cells": [
  {
   "cell_type": "markdown",
   "metadata": {
    "collapsed": true
   },
   "source": [
    "# Linear Regression Example\n",
    "* https://github.com/aymericdamien/TensorFlow-Examples/"
   ]
  },
  {
   "cell_type": "code",
   "execution_count": 27,
   "metadata": {},
   "outputs": [
    {
     "data": {
      "text/plain": [
       "'1.13.2'"
      ]
     },
     "execution_count": 27,
     "metadata": {},
     "output_type": "execute_result"
    }
   ],
   "source": [
    "import tensorflow as tf\n",
    "tf.__version__"
   ]
  },
  {
   "cell_type": "code",
   "execution_count": 28,
   "metadata": {},
   "outputs": [],
   "source": [
    "import numpy as np\n",
    "import matplotlib.pyplot as plt\n",
    "rng=np.random"
   ]
  },
  {
   "cell_type": "code",
   "execution_count": 29,
   "metadata": {},
   "outputs": [],
   "source": [
    "learning_rate=0.01\n",
    "trainning_epochs=1000\n",
    "display_step=50"
   ]
  },
  {
   "cell_type": "code",
   "execution_count": 30,
   "metadata": {},
   "outputs": [],
   "source": [
    "train_X = np.asarray([3.3,4.4,5.5,6.71,6.93,4.168,9.779,6.182,7.59,2.167,\n",
    "                         7.042,10.791,5.313,7.997,5.654,9.27,3.1])\n",
    "train_Y = np.asarray([1.7,2.76,2.09,3.19,1.694,1.573,3.366,2.596,2.53,1.221,\n",
    "                         2.827,3.465,1.65,2.904,2.42,2.94,1.3])\n",
    "n_samples = train_X.shape[0]"
   ]
  },
  {
   "cell_type": "code",
   "execution_count": 31,
   "metadata": {},
   "outputs": [],
   "source": [
    "X=tf.placeholder(\"float\")\n",
    "Y=tf.placeholder(\"float\")\n",
    "\n",
    "W=tf.Variable(rng.randn(),name=\"weight\")\n",
    "b=tf.Variable(rng.randn(),name=\"bias\")"
   ]
  },
  {
   "cell_type": "code",
   "execution_count": 32,
   "metadata": {},
   "outputs": [],
   "source": [
    "pred=tf.add(tf.multiply(X,W),b)"
   ]
  },
  {
   "cell_type": "code",
   "execution_count": 33,
   "metadata": {},
   "outputs": [],
   "source": [
    "# MSE\n",
    "# cost=tf.reduce_sum(tf.pow(pred-Y,2))/(2*n_samples)\n",
    "cost=tf.reduce_mean(tf.square(pred-Y))\n",
    "optimizer=tf.train.GradientDescentOptimizer(learning_rate).minimize(cost)\n"
   ]
  },
  {
   "cell_type": "code",
   "execution_count": 34,
   "metadata": {},
   "outputs": [],
   "source": [
    "init=tf.global_variables_initializer()"
   ]
  },
  {
   "cell_type": "code",
   "execution_count": 35,
   "metadata": {},
   "outputs": [
    {
     "name": "stdout",
     "output_type": "stream",
     "text": [
      "Epoch: 0050 cost= 0.346591145 W= 0.17144276 b= 0.90147895\n",
      "Epoch: 0100 cost= 0.345019519 W= 0.1693356 b= 0.9189735\n",
      "Epoch: 0150 cost= 0.344901204 W= 0.16917174 b= 0.9203336\n",
      "Epoch: 0200 cost= 0.344892025 W= 0.16915902 b= 0.9204392\n",
      "Epoch: 0250 cost= 0.344891310 W= 0.1691582 b= 0.92044604\n",
      "Epoch: 0300 cost= 0.344891310 W= 0.1691582 b= 0.92044604\n",
      "Epoch: 0350 cost= 0.344891310 W= 0.1691582 b= 0.92044604\n",
      "Epoch: 0400 cost= 0.344891310 W= 0.1691582 b= 0.92044604\n",
      "Epoch: 0450 cost= 0.344891310 W= 0.1691582 b= 0.92044604\n",
      "Epoch: 0500 cost= 0.344891310 W= 0.1691582 b= 0.92044604\n",
      "Epoch: 0550 cost= 0.344891310 W= 0.1691582 b= 0.92044604\n",
      "Epoch: 0600 cost= 0.344891310 W= 0.1691582 b= 0.92044604\n",
      "Epoch: 0650 cost= 0.344891310 W= 0.1691582 b= 0.92044604\n",
      "Epoch: 0700 cost= 0.344891310 W= 0.1691582 b= 0.92044604\n",
      "Epoch: 0750 cost= 0.344891310 W= 0.1691582 b= 0.92044604\n",
      "Epoch: 0800 cost= 0.344891310 W= 0.1691582 b= 0.92044604\n",
      "Epoch: 0850 cost= 0.344891310 W= 0.1691582 b= 0.92044604\n",
      "Epoch: 0900 cost= 0.344891310 W= 0.1691582 b= 0.92044604\n",
      "Epoch: 0950 cost= 0.344891310 W= 0.1691582 b= 0.92044604\n",
      "Epoch: 1000 cost= 0.344891310 W= 0.1691582 b= 0.92044604\n",
      "Epoch: 1000 cost= 0.344891310 W= 0.1691582 b= 0.92044604\n",
      "Training cost= 0.3448913 W= 0.1691582 b= 0.92044604 \n",
      "\n"
     ]
    },
    {
     "data": {
      "image/png": "[encoded data removed]",
      "text/plain": [
       "<Figure size 432x288 with 1 Axes>"
      ]
     },
     "metadata": {
      "needs_background": "light"
     },
     "output_type": "display_data"
    }
   ],
   "source": [
    "with tf.Session() as sess:\n",
    "    sess.run(init)\n",
    "    \n",
    "    for epoch in range(trainning_epochs):\n",
    "        for(x,y) in zip(train_X,train_Y):\n",
    "            sess.run(optimizer,feed_dict={X:x,Y:y})\n",
    "        \n",
    "        if (epoch+1)%display_step==0:\n",
    "            c = sess.run(cost, feed_dict={X: train_X, Y:train_Y})\n",
    "            print (\"Epoch:\", '%04d' % (epoch+1), \"cost=\", \"{:.9f}\".format(c), \\\n",
    "                \"W=\", sess.run(W), \"b=\", sess.run(b))\n",
    "\n",
    "    print (\"Epoch:\", '%04d' % (epoch+1), \"cost=\", \"{:.9f}\".format(c), \\\n",
    "                \"W=\", sess.run(W), \"b=\", sess.run(b))\n",
    "    training_cost = sess.run(cost, feed_dict={X: train_X, Y: train_Y})\n",
    "    print (\"Training cost=\", training_cost, \"W=\", sess.run(W), \"b=\", sess.run(b), '\\n')\n",
    "\n",
    "    #Graphic display\n",
    "    plt.plot(train_X, train_Y, 'ro', label='Original data')\n",
    "    plt.plot(train_X, sess.run(W) * train_X + sess.run(b), label='Fitted line')\n",
    "    plt.legend()\n",
    "    plt.show()"
   ]
  },
  {
   "cell_type": "code",
   "execution_count": null,
   "metadata": {},
   "outputs": [],
   "source": []
  }
 ],
 "metadata": {
  "kernelspec": {
   "display_name": "tf1.x",
   "language": "python",
   "name": "tf1.x"
  },
  "language_info": {
   "codemirror_mode": {
    "name": "ipython",
    "version": 3
   },
   "file_extension": ".py",
   "mimetype": "text/x-python",
   "name": "python",
   "nbconvert_exporter": "python",
   "pygments_lexer": "ipython3",
   "version": "3.6.10"
  }
 },
 "nbformat": 4,
 "nbformat_minor": 1
}
